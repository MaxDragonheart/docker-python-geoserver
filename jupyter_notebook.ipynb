{
 "cells": [
  {
   "cell_type": "code",
   "execution_count": 1,
   "outputs": [
    {
     "data": {
      "text/plain": "PosixPath('/home/max/DEV/TEST/python-geoserver')"
     },
     "execution_count": 1,
     "metadata": {},
     "output_type": "execute_result"
    }
   ],
   "source": [
    "from pathlib import Path\n",
    "\n",
    "main_folder = Path().cwd()\n",
    "main_folder"
   ],
   "metadata": {
    "collapsed": false
   }
  },
  {
   "cell_type": "code",
   "execution_count": 4,
   "outputs": [],
   "source": [
    "from fsspec import get_fs_token_paths\n",
    "from owslib.wms import WebMapService\n",
    "\n",
    "\n",
    "def get_wms_data(\n",
    "        wms_url: str,\n",
    "        service_version: str,\n",
    "        layer_name: str,\n",
    "        srs: str = 'EPSG:4326',\n",
    "        width: int = 300,\n",
    "        high: int = 300,\n",
    ") -> dict:\n",
    "    \"\"\"Get thumbnail from WMS layer, it's saved into selected folder and also return\n",
    "    the saved path.\n",
    "    Args:\n",
    "        wms_url: String.\n",
    "        service_version: String.\n",
    "        layer_name: String.\n",
    "        srs: String.\n",
    "        width: Integer.\n",
    "        high: Integer.\n",
    "    Returns:\n",
    "        dict\n",
    "    \"\"\"\n",
    "    # Read WMS\n",
    "    wms = WebMapService(url=wms_url, version=service_version)\n",
    "\n",
    "    # Get bounding box from selected layer\n",
    "    layer = wms[layer_name]\n",
    "    bbox = layer.boundingBoxWGS84\n",
    "\n",
    "    # Create thumbnail\n",
    "    img = wms.getmap(\n",
    "        layers=[layer_name],\n",
    "        srs=srs,\n",
    "        bbox=bbox,\n",
    "        size=(width, high),\n",
    "        format='image/jpeg',\n",
    "        transparent=True\n",
    "    )\n",
    "\n",
    "    # Make destination folder\n",
    "    destination_folder = main_folder.joinpath('media')\n",
    "    fs, fs_token, paths = get_fs_token_paths(destination_folder)\n",
    "    fs.mkdirs(path=destination_folder, exist_ok=True)\n",
    "\n",
    "    # Put thumbnail into destinantion folder\n",
    "    img_path = Path(f'{destination_folder}/{layer.title}.jpg')\n",
    "    out = open(img_path, 'wb')\n",
    "    out.write(img.read())\n",
    "    out.close()\n",
    "\n",
    "    data = {\n",
    "        \"wms-title\": layer.title,\n",
    "        \"wms-bbox\": bbox,\n",
    "        \"wms-img\": img_path\n",
    "    }\n",
    "\n",
    "    return data\n"
   ],
   "metadata": {
    "collapsed": false
   }
  },
  {
   "cell_type": "code",
   "execution_count": 5,
   "outputs": [
    {
     "data": {
      "text/plain": "{'wms-title': 'Beirut_20200724',\n 'wms-bbox': (35.49074546110199,\n  33.88620432137868,\n  35.54600838012123,\n  33.92160376571072),\n 'wms-img': PosixPath('/home/max/DEV/TEST/python-geoserver/media/Beirut_20200724.jpg')}"
     },
     "execution_count": 5,
     "metadata": {},
     "output_type": "execute_result"
    }
   ],
   "source": [
    "layer = get_wms_data(\n",
    "    wms_url=\"https://geoserver.massimilianomoraca.me/geoserver/MassimilianoMoraca/wms\",\n",
    "    service_version=\"1.3.0\",\n",
    "    layer_name=\"Beirut_20200724\"\n",
    ")\n",
    "layer"
   ],
   "metadata": {
    "collapsed": false
   }
  }
 ],
 "metadata": {
  "kernelspec": {
   "display_name": "Python 3",
   "language": "python",
   "name": "python3"
  },
  "language_info": {
   "codemirror_mode": {
    "name": "ipython",
    "version": 2
   },
   "file_extension": ".py",
   "mimetype": "text/x-python",
   "name": "python",
   "nbconvert_exporter": "python",
   "pygments_lexer": "ipython2",
   "version": "2.7.6"
  }
 },
 "nbformat": 4,
 "nbformat_minor": 0
}
